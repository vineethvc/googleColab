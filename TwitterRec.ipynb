{
  "nbformat": 4,
  "nbformat_minor": 0,
  "metadata": {
    "colab": {
      "name": "TwitterRec.ipynb",
      "provenance": [],
      "collapsed_sections": [],
      "authorship_tag": "ABX9TyOWLuA/+Xa6knTChwBx5dGL",
      "include_colab_link": true
    },
    "kernelspec": {
      "name": "python3",
      "display_name": "Python 3"
    }
  },
  "cells": [
    {
      "cell_type": "markdown",
      "metadata": {
        "id": "view-in-github",
        "colab_type": "text"
      },
      "source": [
        "<a href=\"https://colab.research.google.com/github/vineethvc/googleColab/blob/main/TwitterRec.ipynb\" target=\"_parent\"><img src=\"https://colab.research.google.com/assets/colab-badge.svg\" alt=\"Open In Colab\"/></a>"
      ]
    },
    {
      "cell_type": "markdown",
      "metadata": {
        "id": "uRirjDW9iRU0"
      },
      "source": [
        "Install Tweepy package for accessing twitter APIs"
      ]
    },
    {
      "cell_type": "code",
      "metadata": {
        "id": "XsJ6eh-TeX7L"
      },
      "source": [
        "!pip install tweepy"
      ],
      "execution_count": null,
      "outputs": []
    },
    {
      "cell_type": "code",
      "metadata": {
        "id": "yGaKIEK3dXNb"
      },
      "source": [
        "import tweepy\n",
        "import pandas as pd\n",
        "import numpy as np\n",
        "import os, csv, logging, urllib, urllib3, json,bson, re,string\n",
        "from bson import json_util\n",
        "from datetime import datetime, timedelta\n",
        "from datetime import time\n",
        "import collections ,sys,math, time, datetime"
      ],
      "execution_count": null,
      "outputs": []
    },
    {
      "cell_type": "markdown",
      "metadata": {
        "id": "92fp2BvnjOt7"
      },
      "source": [
        "\n",
        "Tokens for connections that need to be used for accessing the tweets. Twitter account is accessed using the following four credentials."
      ]
    },
    {
      "cell_type": "code",
      "metadata": {
        "id": "LFT1aOwbkB7F"
      },
      "source": [
        "def auth_credentails_withoutJSONParser():\n",
        "\n",
        "  CONSUMER_TOKEN=\"WpIJwd1ZKAjz6WwU4vwaXNe5V\"\n",
        "  CONSUMER_SECRET=\"1ndGlTPPbwtArYTmbZqso6bErQlBuo0C3akhCOqm2SOCArgWHb\"\n",
        "  # set access token and secret\n",
        "  access_token =\"622947238-I1rgoXLQ4dzrdbXimTR1Uf4uNHEjEbrmQhykMEQy\"\n",
        "  access_token_secret=\"sMYGkwE1JI3qww7TPK541lxJM15IkrmFYZVOOOTEYi3M1\"\n",
        "  #Authentication for api\n",
        "  auth=tweepy.OAuthHandler(CONSUMER_TOKEN,CONSUMER_SECRET)\n",
        "  auth.set_access_token(access_token, access_token_secret)\n",
        "  #API to authenticate the credentails\n",
        "  try:\n",
        "    api=tweepy.API(auth,wait_on_rate_limit=True)\n",
        "    return api\n",
        "  except BaseException as e:\n",
        "    print(\"Authentication has been failed due to — \"+str(e))"
      ],
      "execution_count": null,
      "outputs": []
    },
    {
      "cell_type": "code",
      "metadata": {
        "id": "nXSYqe6hkX0W"
      },
      "source": [
        "def df_loadcolumns(): \n",
        "\tdf = pd.DataFrame(columns=['UId', 'UFullName', 'UScreenName', 'UCreatedat', 'ULocation', 'UTotalTweets', 'UFollowing', 'Ufollowers', 'ULikes','UTweetAt','UFTweet','UFTLikes','UFTCount','ReTweet','UHashtags', 'Uusermentions','RTId', 'RTFullName', 'RTScreenName', 'RTCreatedat', 'RTLocation', 'RTTotalTweets', 'RTFollowing', 'RTfollowers', 'RTLikes', 'RTTweetAt', 'RTFTweet', 'RTFTLikes', 'RTFTCount', 'UCTweet', 'RTCTweet', 'QTId', 'QTFullName', 'QTScreenName', 'QTCreatedat', 'QTLocation', 'QTTotalTweets', 'QTFollowing', 'QTfollowers', 'QTLikes', 'QTTweetAt', 'QTFTweet', 'QTFTLikes', 'QTFTCount', 'QTCTweet', 'TweetType', 'place_name', 'country', 'Sentiments', 'Score', 'SearchKey'])\n",
        "\treturn df"
      ],
      "execution_count": null,
      "outputs": []
    },
    {
      "cell_type": "markdown",
      "metadata": {
        "id": "JpYFHecxkGap"
      },
      "source": [
        "Use Tweepy cursor options to search for tweets with hashtags matching the search string. Extract tweet text for analysis"
      ]
    },
    {
      "cell_type": "code",
      "metadata": {
        "id": "AupVsyT7kxUn"
      },
      "source": [
        "import json\n",
        "\n",
        "search_hashtags = \"India\"\n",
        "api=auth_credentails_withoutJSONParser()\n",
        "\n",
        "ictr=0\n",
        "print('enter')\n",
        "for status in tweepy.Cursor(api.search, q=search_hashtags,count=100,lang=\"en\", result_type=\"recent\", tweet_mode='extended').pages(20):\n",
        "  for search in status:\n",
        "    if hasattr(search, \"full_text\"):\n",
        "      #print(entities)\n",
        "      text = search.full_text\n",
        "      print(text)\n",
        "    if hasattr(search, \"retweeted_status\"):\n",
        "      text2 = search.retweeted_status.full_text\n",
        "      print(text2)\n",
        "  #for search in status:\n",
        "  \n",
        "  # for search in status:\n",
        "  #   if hasattr(search, \"entities\"):\n",
        "  #     entities = search.entities\n",
        "  #     if \"hashtags\" in entities:\n",
        "  #       for ent in entities[\"hashtags\"]:\n",
        "  #         if ent is not None:\n",
        "  #           if \"text\" in ent:\n",
        "  #             hashtag = ent[\"text\"]\n",
        "  #             if hashtag is not None:\n",
        "  #               # uhashtags += \" #\"+hashtag\n",
        "  #               # hashtags.append(hashtag)\n",
        "  #               print(hashtag)"
      ],
      "execution_count": null,
      "outputs": []
    },
    {
      "cell_type": "code",
      "metadata": {
        "id": "HqoqD5MfRuhb"
      },
      "source": [
        "public_tweets = api.home_timeline()\n",
        "for tweet in public_tweets:\n",
        "    print(tweet.text)\n",
        "    print('==========')"
      ],
      "execution_count": null,
      "outputs": []
    },
    {
      "cell_type": "code",
      "metadata": {
        "id": "0wMC_TxUqSQ1"
      },
      "source": [
        "api.trends_place(23424848)"
      ],
      "execution_count": null,
      "outputs": []
    },
    {
      "cell_type": "markdown",
      "metadata": {
        "id": "UPFgZEuOkZsV"
      },
      "source": [
        "Get the tweets favourited by a user to collect text data of the tweets liked by them"
      ]
    },
    {
      "cell_type": "code",
      "metadata": {
        "id": "7ZvUhlL1On4h"
      },
      "source": [
        "api=auth_credentails_withoutJSONParser()\n",
        "\n",
        "ictr=0\n",
        "print('enter')\n",
        "for status in tweepy.Cursor(api.favorites, id = 'vindi_cfc', tweet_mode = 'extended').pages(20):\n",
        "  print(status)\n",
        "  for search in status:\n",
        "    if hasattr(search, \"full_text\"):\n",
        "      #print(entities)\n",
        "      text = search.full_text\n",
        "      print(text)\n",
        "    if hasattr(search, \"quoted_status\"):\n",
        "      text2 = search.quoted_status.full_text\n",
        "      print(text2)\n",
        "    if hasattr(search, \"user\"):\n",
        "      name = search.user.name\n",
        "      print(name)"
      ],
      "execution_count": null,
      "outputs": []
    },
    {
      "cell_type": "code",
      "metadata": {
        "id": "VN3NI8htF1MW"
      },
      "source": [
        ""
      ],
      "execution_count": null,
      "outputs": []
    }
  ]
}