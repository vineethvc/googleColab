{
  "nbformat": 4,
  "nbformat_minor": 0,
  "metadata": {
    "colab": {
      "name": "FasterRCNNTrainModel.ipynb",
      "provenance": [],
      "collapsed_sections": [],
      "authorship_tag": "ABX9TyMoRScorF/oUH7+dw2A59+9",
      "include_colab_link": true
    },
    "kernelspec": {
      "name": "python3",
      "display_name": "Python 3"
    },
    "accelerator": "GPU"
  },
  "cells": [
    {
      "cell_type": "markdown",
      "metadata": {
        "id": "view-in-github",
        "colab_type": "text"
      },
      "source": [
        "<a href=\"https://colab.research.google.com/github/vineethvc/googleColab/blob/main/FasterRCNNTrainModel.ipynb\" target=\"_parent\"><img src=\"https://colab.research.google.com/assets/colab-badge.svg\" alt=\"Open In Colab\"/></a>"
      ]
    },
    {
      "cell_type": "markdown",
      "metadata": {
        "id": "QVuVHeZmpGNQ"
      },
      "source": [
        "Import all the necessary libraries"
      ]
    },
    {
      "cell_type": "code",
      "metadata": {
        "id": "idvkWlwiBjmK"
      },
      "source": [
        "import torch\n",
        "import torchvision\n",
        "import matplotlib.pyplot as plt\n",
        "\n",
        "from torchvision import transforms\n",
        "from detecto import core, utils, visualize"
      ],
      "execution_count": null,
      "outputs": []
    },
    {
      "cell_type": "markdown",
      "metadata": {
        "id": "lIXA-Y6VpM0O"
      },
      "source": [
        "Use Detecto Util method to convert all XML labels to CSV format. The dataset is divided into training dataset and test dataset"
      ]
    },
    {
      "cell_type": "code",
      "metadata": {
        "id": "IKkkxwIdHsPo"
      },
      "source": [
        "utils.xml_to_csv('train_labels', 'train.csv')\n",
        "utils.xml_to_csv('test_labels', 'test.csv')"
      ],
      "execution_count": null,
      "outputs": []
    },
    {
      "cell_type": "markdown",
      "metadata": {
        "id": "nFCDADZepciM"
      },
      "source": [
        "Use methods to transform the images. This is to ensure all the images are of similar resolution."
      ]
    },
    {
      "cell_type": "code",
      "metadata": {
        "id": "YbON35BUDvpK"
      },
      "source": [
        "from detecto.utils import default_transforms\n",
        "# Note: if transform=None, the Dataset will automatically\n",
        "# apply these default transforms to images\n",
        "defaults = default_transforms()\n",
        "transform_img = transforms.Compose([transforms.ToPILImage(),transforms.Resize(800),transforms.RandomHorizontalFlip(0.5),transforms.ToTensor(),utils.normalize_transform(),])"
      ],
      "execution_count": null,
      "outputs": []
    },
    {
      "cell_type": "markdown",
      "metadata": {
        "id": "GtpHZf44prFf"
      },
      "source": [
        "Create and specify our dataset. Use tansform argument to pass any image transformation methods available"
      ]
    },
    {
      "cell_type": "code",
      "metadata": {
        "id": "y8qiUzW5IAka"
      },
      "source": [
        "dataset = core.Dataset('train.csv', 'train_images/', transform=transform_img)\n",
        "#import numpy as np\n",
        "\n",
        "#Create our validation dataset\n",
        "val_dataset = core.Dataset('test.csv', 'test_images/')"
      ],
      "execution_count": null,
      "outputs": []
    },
    {
      "cell_type": "code",
      "metadata": {
        "id": "NvF1FzICIW1k"
      },
      "source": [
        "# Create the loader for our training dataset\n",
        "loader = core.DataLoader(dataset, batch_size=1, shuffle=True)\n",
        "model = core.Model(['invNo', 'invDate', 'invTotal','itemDesc'])"
      ],
      "execution_count": null,
      "outputs": []
    },
    {
      "cell_type": "markdown",
      "metadata": {
        "id": "zGBaPCjRqGDA"
      },
      "source": [
        "Start the training by using this function. Specify the data to be used for training and data to be used for self evaluation for the algorithm. \n",
        "Inputs:\n",
        "    \n",
        "    loader - The dataloader object with training dataset\n",
        "    \n",
        "    val_dataset - Portion of the dataset to be used for evaluation by algorithm\n",
        "\n",
        "    learning_rate - Variable to specify how quickly the algorithm should adapt to the problem. Value should be between 0 and 1\n",
        "\n",
        "    epoch - Defines a full learning cycle through the whole dataset. A positive integer value.\n",
        "\n",
        "\n",
        "\n"
      ]
    },
    {
      "cell_type": "code",
      "metadata": {
        "id": "0xKyh9RqDKXS"
      },
      "source": [
        "# Train the model! This step can take a while, so make sure you\n",
        "# the GPU is turned on in Edit -> Notebook settings\n",
        "losses = model.fit(loader, val_dataset, learning_rate=0.001,epochs=20, verbose=True)\n",
        "\n",
        "# Plot the accuracy over time\n",
        "plt.plot(losses)\n",
        "plt.xlabel('Epoch')\n",
        "plt.ylabel('Loss')\n",
        "\n",
        "plt.savefig('Loss.png')\n",
        "plt.show()\n",
        "\n",
        "model.save('model_weights_new2.pth')"
      ],
      "execution_count": null,
      "outputs": []
    },
    {
      "cell_type": "code",
      "metadata": {
        "id": "ZRDyZTi_WT9m"
      },
      "source": [
        ""
      ],
      "execution_count": null,
      "outputs": []
    }
  ]
}